{
  "nbformat": 4,
  "nbformat_minor": 0,
  "metadata": {
    "kernelspec": {
      "display_name": "Python 3",
      "language": "python",
      "name": "python3"
    },
    "language_info": {
      "codemirror_mode": {
        "name": "ipython",
        "version": 3
      },
      "file_extension": ".py",
      "mimetype": "text/x-python",
      "name": "python",
      "nbconvert_exporter": "python",
      "pygments_lexer": "ipython3",
      "version": "3.7.6"
    },
    "colab": {
      "name": "seance5.ipynb",
      "provenance": []
    }
  },
  "cells": [
    {
      "cell_type": "markdown",
      "metadata": {
        "id": "NDphQQxtymlk"
      },
      "source": [
        "Ex1:\n",
        "    \n",
        "1. Ecrire une fonction qui prend en entrée une fonction f et des réels a et h et donne en sortie le taux de variation (ou d'accroissement) de la fonction f entre le point d'abscisse a+h et a.\n",
        "2. Tester avec f(x)=3x^3+1x^2-5"
      ]
    },
    {
      "cell_type": "code",
      "metadata": {
        "id": "2Vfk019tymlm",
        "outputId": "31d329da-7f9b-43f6-a120-99de2999554e",
        "colab": {
          "base_uri": "https://localhost:8080/"
        }
      },
      "source": [
        "import numpy\n",
        "\n",
        "def tauxdevariation(fn, a, h):\n",
        "    taux = (fn(a+h)-fn(a))/h\n",
        "    return taux\n",
        "\n",
        "def fn(x):\n",
        "    return 3*pow(x, 3) + 1*pow(x, 2) - 5\n",
        "\n",
        "print(tauxdevariation(fn, 10, 3))"
      ],
      "execution_count": 1,
      "outputs": [
        {
          "output_type": "stream",
          "text": [
            "1220.0\n"
          ],
          "name": "stdout"
        }
      ]
    },
    {
      "cell_type": "markdown",
      "metadata": {
        "id": "iNYr8PAPymlx"
      },
      "source": [
        "Ex2:\n",
        "1. Ecrire une fonction qui calcule la liste des coefficients directeurs pour une fonction f définit sur I=[a;b] avec un pas \"p\"\n",
        "2. Tester avec f(x)=(1+x)/(x-4) définit sur I=[0,1] avec un pas de 0.01"
      ]
    },
    {
      "cell_type": "code",
      "metadata": {
        "id": "D-6hb4_Oyml0"
      },
      "source": [
        "import numpy\n",
        "\n",
        "def coefdirecteur(fn, a, b,p):\n",
        "    coef = []\n",
        "    # on ajoute à la liste le coef directeur entre l'intervall avec un pas p\n",
        "    for i in numpy.arange(a,b,p):\n",
        "        # on ajoute le coef à la liste\n",
        "        coef.append(fn(i))\n",
        "\n",
        "    return coef\n",
        "\n",
        "def fn(x):\n",
        "    return (1+x)/(x-4)\n",
        "\n",
        "print(coefdirecteur(fn, 0, 1, 0.01))"
      ],
      "execution_count": null,
      "outputs": []
    },
    {
      "cell_type": "markdown",
      "metadata": {
        "id": "Bap_a0zsyml7"
      },
      "source": [
        "Ex3:\n",
        "on considère une suite U définie par Un+1=Un+n+1 et de premier terme U0. Ecrire une fonction qui prend en entrée les valeurs de n et U0 et affiche la valeur de Un.\n",
        "1. De facon iterative\n",
        "2. Par recurence"
      ]
    },
    {
      "cell_type": "code",
      "metadata": {
        "id": "AsyGMOxwyml9"
      },
      "source": [
        "def f(n):\n",
        "  return n + 1\n",
        "\n",
        "def iterative(n, u):\n",
        "  result = u\n",
        "  for i in range(1, n+1):\n",
        "    result += f(i)\n",
        "  return result\n",
        "\n",
        "def recursive(n, u):\n",
        "  if n == 0:\n",
        "    return u\n",
        "  else:\n",
        "    return recursive(n-1, u) + n + 1\n",
        "\n",
        "print(recursive(10, 2))\n",
        "print(iterative(10, 2))"
      ],
      "execution_count": null,
      "outputs": []
    },
    {
      "cell_type": "markdown",
      "metadata": {
        "id": "3L0jRcrrymmD"
      },
      "source": [
        "Ex4:\n",
        "On pose Tn=n^2−(n−1)^2 ainsi que Sn=T1+T2+T3+...+Tn.\n",
        "1. Etant donné n, afficher la valeur de Sn."
      ]
    },
    {
      "cell_type": "code",
      "metadata": {
        "id": "-3lK8by4ymmD"
      },
      "source": [
        "import numpy\n",
        "\n",
        "def T(n):\n",
        "    return (n**2-((n-1)**2))\n",
        "\n",
        "def S(n):\n",
        "    res = 0\n",
        "    for i in range(1, n+1):\n",
        "        res = res + T(i)\n",
        "    return res\n",
        "\n",
        "print(S(5))"
      ],
      "execution_count": null,
      "outputs": []
    },
    {
      "cell_type": "markdown",
      "metadata": {
        "id": "wL8EutnWymmK"
      },
      "source": [
        "Ex5:\n",
        "Soit la suite définie par Un+1=0.5.Un et de premier terme U0. Plus la valeur de n augmente, plus les valeurs de Un se rapprochent de 0.\n",
        "\n",
        "Ecrire une fonction qui permet de déterminer pour un réel positif e donné, quel est le plus petit entier n tel que la valeur de Un soit inférieure à e.\n"
      ]
    },
    {
      "cell_type": "code",
      "metadata": {
        "id": "1kzQ2OPfymmK"
      },
      "source": [
        "def determiner(e, u0):\n",
        "    b = 1;\n",
        "    un = u0\n",
        "    n = 0;\n",
        "    while ( b == 1 ):\n",
        "        print(\"U\"+str(n)+\" = \"+str(un))\n",
        "        if(un < e):\n",
        "            b = 0\n",
        "        else:\n",
        "            n+=1\n",
        "            un = uN(un)\n",
        "\n",
        "    return n;\n",
        "\n",
        "def uN(un):\n",
        "    return 0.5*un\n",
        "\n",
        "print(determiner(3,30))"
      ],
      "execution_count": null,
      "outputs": []
    },
    {
      "cell_type": "markdown",
      "metadata": {
        "id": "ohHw2Pu6ymmS"
      },
      "source": [
        "Ex6: Constante K de Catalan : https://fr.wikipedia.org/wiki/Constante_de_Catalan\n",
        "Ecrire une fonction qui permet de retourner une valeur approchée de la constante K et en s’arrêtant dès que la valeur absolue de la différence entre deux somme successives devienne inférieure ou égale à une erreur epsilon donnée en paramètre.\n",
        "\n"
      ]
    },
    {
      "cell_type": "code",
      "metadata": {
        "id": "8rBfw0SEymmT"
      },
      "source": [
        "def val_app(epsilon):\n",
        "    elm1=1\n",
        "    elm2=elm1-1/(3**2)\n",
        "    signe=1\n",
        "    val=5\n",
        "    while abs(elm2-elm1)>epsilon:\n",
        "       elm1=elm2\n",
        "       elm2=elm1+signe*(1/(val**2))\n",
        "       val+=2\n",
        "       signe*=(-1)\n",
        "    return elm2\n",
        "\n",
        "print(val_app(0.05))"
      ],
      "execution_count": null,
      "outputs": []
    },
    {
      "cell_type": "markdown",
      "metadata": {
        "id": "vtO6f7iPymmY"
      },
      "source": [
        "Ex 7:\n",
        "Ecrivez une fonction permettant de calculer la limite à epsilon près de la suite définie par la relation de récurrence :\n",
        "\n",
        "U0 =2\n",
        "Un+1= Un + 2/Un  , n>0.\n",
        "\n",
        "On arrête d’itérer quand l’intervalle entre 2 termes consécutifs devient strictement inférieur à epsilon."
      ]
    },
    {
      "cell_type": "code",
      "metadata": {
        "id": "Q9MtZs770MS8"
      },
      "source": [
        "def limite(epsilon):\n",
        "    U0 = 2\n",
        "    Un = U0+2/U0\n",
        "    while abs(Un-U0) > epsilon:\n",
        "        U0 = Un\n",
        "        Un = U0+2/U0\n",
        "    return Un\n",
        "\n",
        "print(limite(0.05))"
      ],
      "execution_count": null,
      "outputs": []
    }
  ]
}